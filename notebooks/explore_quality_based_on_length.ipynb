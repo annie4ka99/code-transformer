{
 "cells": [
  {
   "cell_type": "code",
   "execution_count": null,
   "metadata": {},
   "outputs": [],
   "source": [
    "%cd ../.."
   ]
  },
  {
   "attachments": {},
   "cell_type": "markdown",
   "metadata": {},
   "source": [
    "## evaluate all models"
   ]
  },
  {
   "cell_type": "code",
   "execution_count": null,
   "metadata": {},
   "outputs": [],
   "source": [
    "snapshot = 'latest'\n",
    "partition = 'test'\n",
    "batch_size = 8\n",
    "limit_tokens = 512\n",
    "models = [dict(model='code_transformer',    label='CT', run_ids=range(1, 9)), \n",
    "          dict(model='great',               label='GT', run_ids=range(1, 5)),\n",
    "          dict(model='xl_net',              label='XL', run_ids=range(1, 5))]\n",
    "results_dir = 'experiments_results'"
   ]
  },
  {
   "cell_type": "code",
   "execution_count": null,
   "metadata": {},
   "outputs": [],
   "source": [
    "import os\n",
    "\n",
    "csn_langs = ['python', 'javascript', 'ruby', 'go']\n",
    "os.makedirs(results_dir, exist_ok=True)\n",
    "for model_info in models:\n",
    "    model = model_info['model']\n",
    "    label = model_info[label]\n",
    "    for run_id in model_info['run_ids']:\n",
    "        model_id = f'{label}-{run_id}'\n",
    "        lang = csn_langs[(run_id - 1) % 4]\n",
    "        save_path = os.path.join(results_dir, f\"sample-metrics-{model}-{lang}-{partition}.csv\")\n",
    "\n",
    "        print(f'evaluating {model} {model_id} for {lang} on {partition}...')\n",
    "        ! python scripts.evaluate {model} {model_id} {snapshot} {save_path} {partition} {batch_size} {limit_tokens}      \n",
    "        print('------------------------------------------------')"
   ]
  },
  {
   "attachments": {},
   "cell_type": "markdown",
   "metadata": {},
   "source": [
    "## explore quality~length dependency"
   ]
  },
  {
   "attachments": {},
   "cell_type": "markdown",
   "metadata": {},
   "source": [
    "### split into bins by method length"
   ]
  },
  {
   "cell_type": "code",
   "execution_count": null,
   "metadata": {},
   "outputs": [],
   "source": []
  }
 ],
 "metadata": {
  "language_info": {
   "name": "python"
  },
  "orig_nbformat": 4
 },
 "nbformat": 4,
 "nbformat_minor": 2
}
